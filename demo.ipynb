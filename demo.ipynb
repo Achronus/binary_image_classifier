{
 "cells": [
  {
   "cell_type": "markdown",
   "id": "64d2a44b-e4c8-4630-b3c6-e25a204a34a7",
   "metadata": {},
   "source": [
    "# Binary Classification"
   ]
  },
  {
   "cell_type": "code",
   "execution_count": 1,
   "id": "8f32c3eb-c3c6-4148-b412-c2e1c94614e8",
   "metadata": {},
   "outputs": [],
   "source": [
    "import toml\n",
    "import pandas as pd\n",
    "\n",
    "from app.cleaning import LabelCleaner\n",
    "from app.imaging import ImageHandler\n",
    "from app.model import ModelController, ModelParameters, ModelPreparation, ModelPredictor\n",
    "from app.utils import load_model\n",
    "from app.plotter import plot_cm, plot_losses, plot_model_preds"
   ]
  },
  {
   "cell_type": "code",
   "execution_count": 2,
   "id": "a18ac770-0276-4311-8691-e7e7a6b1a727",
   "metadata": {},
   "outputs": [],
   "source": [
    "all_params = toml.load(\"parameters.toml\")\n",
    "\n",
    "label_params = all_params['labelparameters']\n",
    "model_params_dict = {key.lower(): val for key, val in all_params['modelparameters'].items()}"
   ]
  },
  {
   "cell_type": "code",
   "execution_count": 3,
   "id": "1abcfa9a-ea71-439e-8505-3a6331cffebe",
   "metadata": {},
   "outputs": [
    {
     "name": "stdout",
     "output_type": "stream",
     "text": [
      "{'LABEL_CLASSES': ['civilian', 'military'], 'LABEL_COLUMNS': ['filename', 'class', 'type']}\n",
      "{'epochs': 1000, 'learning_rate': 0.001, 'batch_size': 128, 'hidden_layer_sizes': [512, 256], 'num_classes': 2, 'seed': 386}\n"
     ]
    }
   ],
   "source": [
    "print(label_params)\n",
    "print(model_params_dict)"
   ]
  },
  {
   "cell_type": "markdown",
   "id": "faffb8ea-90db-400a-b7f9-328f0a472b43",
   "metadata": {},
   "source": [
    "## Label Pre-Processing"
   ]
  },
  {
   "cell_type": "code",
   "execution_count": 4,
   "id": "e152b079-4e37-42f4-be34-645b9ad8aff0",
   "metadata": {},
   "outputs": [],
   "source": [
    "train_labels = pd.read_csv('labels/train_labels.csv', sep=',')\n",
    "test_labels = pd.read_csv('labels/test_labels.csv', sep=',')"
   ]
  },
  {
   "cell_type": "code",
   "execution_count": 5,
   "id": "c6e065d5-52dd-41b6-bdb8-78ad7b403656",
   "metadata": {},
   "outputs": [
    {
     "name": "stdout",
     "output_type": "stream",
     "text": [
      "train_labels overlap duplicates removed: 75\n",
      "test_labels overlap duplicates removed: 6\n"
     ]
    }
   ],
   "source": [
    "lb = LabelCleaner(train_labels, test_labels, labels=label_params['LABEL_CLASSES'])\n",
    "data_labels = lb.clean_data()"
   ]
  },
  {
   "cell_type": "code",
   "execution_count": 6,
   "id": "d55b0ec5-f7f7-4a5a-a207-01d173b44b5d",
   "metadata": {},
   "outputs": [],
   "source": [
    "data_labels = data_labels[label_params['LABEL_COLUMNS']]"
   ]
  },
  {
   "cell_type": "markdown",
   "id": "0a16e333-5541-48cc-a957-babf468bbd2b",
   "metadata": {},
   "source": [
    "## Update Image Names & Location"
   ]
  },
  {
   "cell_type": "code",
   "execution_count": 7,
   "id": "ab8f0650-decc-4eef-9563-57f134ef60e4",
   "metadata": {},
   "outputs": [],
   "source": [
    "img_handler = ImageHandler(data_labels, class_labels=label_params['LABEL_CLASSES'])"
   ]
  },
  {
   "cell_type": "code",
   "execution_count": 8,
   "id": "8d6c9707-0b70-4553-890c-0f16bca631e6",
   "metadata": {
    "tags": []
   },
   "outputs": [
    {
     "name": "stdout",
     "output_type": "stream",
     "text": [
      "Total invalid: 6628\n",
      "Moved: 0 imgs -> civilian directory, 0 imgs -> military directory\n"
     ]
    },
    {
     "name": "stderr",
     "output_type": "stream",
     "text": [
      "C:\\Projects\\Rowden\\app\\imaging.py:65: UserWarning: Boolean Series key will be reindexed to match DataFrame index.\n",
      "  len_label_a = len(self.data_labels[filepaths.str.contains(self.labels[0])])\n",
      "C:\\Projects\\Rowden\\app\\imaging.py:66: UserWarning: Boolean Series key will be reindexed to match DataFrame index.\n",
      "  len_label_b = len(self.data_labels[filepaths.str.contains(self.labels[1])])\n"
     ]
    }
   ],
   "source": [
    "img_handler.update_data_dir()"
   ]
  },
  {
   "cell_type": "code",
   "execution_count": 9,
   "id": "d24452ea-9102-42b5-a527-de8c6908c83f",
   "metadata": {},
   "outputs": [
    {
     "data": {
      "text/html": [
       "<div>\n",
       "<style scoped>\n",
       "    .dataframe tbody tr th:only-of-type {\n",
       "        vertical-align: middle;\n",
       "    }\n",
       "\n",
       "    .dataframe tbody tr th {\n",
       "        vertical-align: top;\n",
       "    }\n",
       "\n",
       "    .dataframe thead th {\n",
       "        text-align: right;\n",
       "    }\n",
       "</style>\n",
       "<table border=\"1\" class=\"dataframe\">\n",
       "  <thead>\n",
       "    <tr style=\"text-align: right;\">\n",
       "      <th></th>\n",
       "      <th>filename</th>\n",
       "      <th>class</th>\n",
       "      <th>type</th>\n",
       "      <th>img_filepaths</th>\n",
       "    </tr>\n",
       "  </thead>\n",
       "  <tbody>\n",
       "  </tbody>\n",
       "</table>\n",
       "</div>"
      ],
      "text/plain": [
       "Empty DataFrame\n",
       "Columns: [filename, class, type, img_filepaths]\n",
       "Index: []"
      ]
     },
     "execution_count": 9,
     "metadata": {},
     "output_type": "execute_result"
    }
   ],
   "source": [
    "data_labels = img_handler.data_labels\n",
    "data_labels"
   ]
  },
  {
   "cell_type": "code",
   "execution_count": 10,
   "id": "5b9e6af7-8016-490b-8675-77cf47805117",
   "metadata": {},
   "outputs": [],
   "source": [
    "train_indices = data_labels[data_labels['type'] == 'train'].index.to_list()\n",
    "test_indices = data_labels[data_labels['type'] == 'test'].index.to_list()"
   ]
  },
  {
   "cell_type": "code",
   "execution_count": 11,
   "id": "53b792a6-cece-495c-8b0d-0234417b17b3",
   "metadata": {},
   "outputs": [],
   "source": [
    "model_params = ModelParameters(**model_params_dict)\n",
    "model_prep = ModelPreparation(model_params)"
   ]
  },
  {
   "cell_type": "code",
   "execution_count": 12,
   "id": "9ba0b6a7-592b-4df8-b2ee-babf7589c4b3",
   "metadata": {},
   "outputs": [
    {
     "name": "stdout",
     "output_type": "stream",
     "text": [
      "Training data: 0\n",
      "Validation data: 0\n",
      "Test data: 0\n"
     ]
    }
   ],
   "source": [
    "train_loader, valid_loader, test_loader = model_prep.split_data(\n",
    "    data_filepath='data',\n",
    "    train_indices=train_indices,\n",
    "    test_indices=test_indices\n",
    ")"
   ]
  },
  {
   "cell_type": "markdown",
   "id": "9d3b34fa-9f68-4ed6-9422-6df4b89fb1aa",
   "metadata": {},
   "source": [
    "## Create & Train Model"
   ]
  },
  {
   "cell_type": "code",
   "execution_count": 13,
   "id": "a7fd9fb4-a0f3-4003-9753-7af90dc164b2",
   "metadata": {},
   "outputs": [],
   "source": [
    "model_controller = ModelController(model_params=model_params, train_loader=train_loader, valid_loader=valid_loader)"
   ]
  },
  {
   "cell_type": "code",
   "execution_count": 14,
   "id": "4522ef1a-9c32-46d0-90e8-0752044de5ef",
   "metadata": {
    "scrolled": true,
    "tags": []
   },
   "outputs": [],
   "source": [
    "# model = model_controller.train(epochs=model_params.epochs, save_filepath='saved_models/mobilenetv3.pt')"
   ]
  },
  {
   "cell_type": "markdown",
   "id": "17cea1bc-a1f9-4bbe-af89-6ddeab4c27e3",
   "metadata": {},
   "source": [
    "## Load Model & Visualise Results"
   ]
  },
  {
   "cell_type": "code",
   "execution_count": 15,
   "id": "42a08e0e-d75e-4b87-97f9-beefe31bce0c",
   "metadata": {},
   "outputs": [],
   "source": [
    "model_params = ModelParameters(**model_params_dict)\n",
    "model = load_model(model_controller.model, filepath='saved_models/mobilenetv3.pt')"
   ]
  },
  {
   "cell_type": "code",
   "execution_count": 16,
   "id": "b80157fd-9b71-4880-afb2-436d1124dc17",
   "metadata": {},
   "outputs": [],
   "source": [
    "model_predictor = ModelPredictor(model, test_data=test_loader)"
   ]
  },
  {
   "cell_type": "code",
   "execution_count": 17,
   "id": "aced224f-829b-4a12-ba8b-98030fb74768",
   "metadata": {},
   "outputs": [
    {
     "ename": "TypeError",
     "evalue": "cannot unpack non-iterable NoneType object",
     "output_type": "error",
     "traceback": [
      "\u001b[1;31m---------------------------------------------------------------------------\u001b[0m",
      "\u001b[1;31mTypeError\u001b[0m                                 Traceback (most recent call last)",
      "Cell \u001b[1;32mIn [17], line 1\u001b[0m\n\u001b[1;32m----> 1\u001b[0m y_pred, y_true \u001b[38;5;241m=\u001b[39m model_predictor\u001b[38;5;241m.\u001b[39mpredict(seed\u001b[38;5;241m=\u001b[39mmodel_params\u001b[38;5;241m.\u001b[39mseed)\n",
      "\u001b[1;31mTypeError\u001b[0m: cannot unpack non-iterable NoneType object"
     ]
    }
   ],
   "source": [
    "y_pred, y_true = model_predictor.predict(seed=model_params.seed)"
   ]
  },
  {
   "cell_type": "code",
   "execution_count": null,
   "id": "95c1b81e-dd72-4a1e-a57c-40193cfac1ec",
   "metadata": {},
   "outputs": [],
   "source": [
    "stats = model_predictor.compute_stats(y_pred, y_true)\n",
    "stats"
   ]
  },
  {
   "cell_type": "code",
   "execution_count": null,
   "id": "8c8171fd-57d1-4f6e-9401-889a86d36d1d",
   "metadata": {},
   "outputs": [],
   "source": [
    "# | TP | FP |\n",
    "# | FN | TN |\n",
    "plot_cm(y_pred, y_true, label_params['LABEL_CLASSES'])"
   ]
  },
  {
   "cell_type": "code",
   "execution_count": null,
   "id": "3514c9a2-73eb-4090-b21f-50994da685d4",
   "metadata": {},
   "outputs": [],
   "source": [
    "plot_losses(model.logger.train_loss, model.logger.valid_loss)"
   ]
  },
  {
   "cell_type": "code",
   "execution_count": null,
   "id": "3d7b3f6c-214f-45df-8a22-083672012a11",
   "metadata": {},
   "outputs": [],
   "source": [
    "plot_model_preds(model, test_data=test_loader, class_labels=label_params['LABEL_CLASSES'])"
   ]
  },
  {
   "cell_type": "code",
   "execution_count": null,
   "id": "bea0c925-fc5d-4b02-b233-34d02352a407",
   "metadata": {},
   "outputs": [],
   "source": []
  }
 ],
 "metadata": {
  "kernelspec": {
   "display_name": "rowden",
   "language": "python",
   "name": "rowden"
  },
  "language_info": {
   "codemirror_mode": {
    "name": "ipython",
    "version": 3
   },
   "file_extension": ".py",
   "mimetype": "text/x-python",
   "name": "python",
   "nbconvert_exporter": "python",
   "pygments_lexer": "ipython3",
   "version": "3.10.6"
  }
 },
 "nbformat": 4,
 "nbformat_minor": 5
}
